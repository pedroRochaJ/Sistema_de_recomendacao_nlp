{
 "cells": [
  {
   "cell_type": "code",
   "execution_count": 1,
   "id": "55448caf",
   "metadata": {},
   "outputs": [],
   "source": [
    "import pandas as pd\n",
    "from unidecode import unidecode\n",
    "from sklearn.feature_extraction.text import TfidfVectorizer\n",
    "from sklearn.metrics.pairwise import sigmoid_kernel\n",
    "import spacy\n",
    "import warnings\n",
    "\n",
    "warnings.filterwarnings(\"ignore\")\n",
    "\n",
    "\n",
    "data = {\n",
    "    'DescricaoProduto': ['Geladeira da marca Electrolux, Inox, gela bem, leitor digital de temperatura',\n",
    "                         'celular Iphone aple em ótimo estado, semi-novo, vermelho com tela em perfeito estado', \n",
    "                         'Celular samsung cinza nunca levou uma queda, em ótimo estado', \n",
    "                         'Frigobar que gela bem e nunca teve problema', \n",
    "                         'Sofá confortável em estofado sem furos mas desbotado', \n",
    "                         'Poltrona de couro', \n",
    "                         'celular Iphone de última geração branco quase não foi usado', \n",
    "                         'video game PS4 sony pouco utilizado preto versão slim', \n",
    "                         'video game Xbox one primeira versão, antigo mas funciona bem',\n",
    "                        'Geladeira Electrolux Frost Free Prata Geladeira moderna da marca Electrolux, modelo Frost Free, na cor prata, com amplo espaço de armazenamento e congelador de fácil acesso',\n",
    "                        'PlayStation 5 Pro O mais recente console de videogame da Sony, o PlayStation 5 Pro, oferece gráficos avançados e desempenho aprimorado para jogos de última geração',\n",
    "                        'Sofá Reclinável em Couro Preto: Sofá espaçoso e elegante com estofamento de couro genuíno na cor preta. Possui assentos reclináveis para máximo conforto',\n",
    "                        'Samsung Galaxy S21 Ultra O celular Samsung Galaxy S21 Ultra é um dispositivo premium com uma tela grande e vívida, múltiplas câmeras de alta resolução e excelente desempenho',\n",
    "                        'Geladeira LG French Door Inox A geladeira LG French Door apresenta design sofisticado em aço inoxidável, sistema de resfriamento avançado e prateleiras ajustáveis',\n",
    "                        'Xbox Series X Halo Edition  A edição especial do Xbox Series X, inspirada no jogo Halo, oferece gráficos impressionantes e uma experiência de jogo única',\n",
    "                        'Sofá-cama Confortável em Tecido Cinza Este sofá-cama versátil em tecido cinza é perfeito para ambientes pequenos. Ele se converte facilmente em uma cama para hóspedes',\n",
    "                        'iPhone 13 Pro Max O iPhone 13 Pro Max é um celular da apple, com uma poderosa câmera, desempenho rápido e tela de alta resolução',\n",
    "                        'Xbox Series S All-Digital Edition O Xbox Series S é uma versão compacta e sem disco do console Xbox Series, perfeito para jogadores que preferem downloads digitais',\n",
    "                        'Sofá de Canto de Couro Branco Um sofá de canto elegante em couro branco, perfeito para criar um ambiente sofisticado na sala de estar',\n",
    "                        'PlayStation 4 Pro Limited Edition A edição limitada do PlayStation 4 Pro oferece desempenho aprimorado e um design personalizado inspirado em jogos populares',\n",
    "                        'Sofá de Veludo Azul-petróleo com Pés de Madeira Este sofá de veludo luxuoso na cor azul-petróleo possui pés de madeira elegantes e é uma adição elegante para qualquer sala de estar',\n",
    "                        'Google Pixel 6 XL O Google Pixel 6 XL é um celular Android com uma excelente câmera, atualizações rápidas e uma tela impressionante para visualização de mídia']\n",
    "}\n",
    "\n",
    "df = pd.DataFrame(data)"
   ]
  },
  {
   "cell_type": "code",
   "execution_count": 2,
   "id": "2669b808",
   "metadata": {},
   "outputs": [],
   "source": [
    "prods = {\n",
    "    'DescricaoProduto': ['Geladeira Electrolux',\n",
    "                         'celular Iphone 15 apple', \n",
    "                         'Celular samsung s20', \n",
    "                         'Frigobar Midea', \n",
    "                         'Sofá confortável', \n",
    "                         'Poltrona de couro', \n",
    "                         'celular Iphone 14', \n",
    "                         'video game PS4 sony', \n",
    "                         'video game Xbox one',\n",
    "                        'Geladeira Electrolux Frost Free',\n",
    "                        'PlayStation 5 Pro',\n",
    "                        'Sofá Reclinável em Couro Preto',\n",
    "                        'Samsung Galaxy S21 Ultra',\n",
    "                        'Geladeira LG French Door',\n",
    "                        'Xbox Series X Halo Edition',\n",
    "                        'Sofá-cama Confortável',\n",
    "                        'iPhone 13 Pro Max',\n",
    "                        'Xbox Series S',\n",
    "                        'Sofá de Canto de Couro',\n",
    "                        'PlayStation 4 Pro',\n",
    "                        'Sofá de Veludo Azul-petróleo',\n",
    "                        'Google Pixel 6 XL']\n",
    "}\n",
    "\n",
    "df_desc = pd.DataFrame(prods)"
   ]
  },
  {
   "cell_type": "code",
   "execution_count": 3,
   "id": "0ab55bf5",
   "metadata": {
    "scrolled": true
   },
   "outputs": [],
   "source": [
    "def remover_acentos_e_minuscular(texto):\n",
    "    texto_sem_acentos = unidecode(texto)\n",
    "    texto_minusculo = texto_sem_acentos.lower()\n",
    "    return texto_minusculo"
   ]
  },
  {
   "cell_type": "code",
   "execution_count": 4,
   "id": "3f0747ed",
   "metadata": {},
   "outputs": [],
   "source": [
    "df['DescricaoProduto'] = df['DescricaoProduto'].apply(remover_acentos_e_minuscular)"
   ]
  },
  {
   "cell_type": "code",
   "execution_count": 5,
   "id": "282ef7bb",
   "metadata": {},
   "outputs": [],
   "source": [
    "df_desc['DescricaoProduto'] = df_desc['DescricaoProduto'].apply(remover_acentos_e_minuscular)"
   ]
  },
  {
   "cell_type": "code",
   "execution_count": 6,
   "id": "5adcabd6",
   "metadata": {},
   "outputs": [],
   "source": [
    "tfv = TfidfVectorizer(min_df = 3, max_features=None, strip_accents='unicode',\n",
    "           analyzer='word',  token_pattern=r'\\w{1,}', ngram_range=(1,3), stop_words=None)\n",
    "\n",
    "tfv_matrix = tfv.fit_transform(df['DescricaoProduto'])"
   ]
  },
  {
   "cell_type": "code",
   "execution_count": 7,
   "id": "a9e70b50",
   "metadata": {},
   "outputs": [
    {
     "data": {
      "text/plain": [
       "(22, 34)"
      ]
     },
     "execution_count": 7,
     "metadata": {},
     "output_type": "execute_result"
    }
   ],
   "source": [
    "tfv_matrix.shape"
   ]
  },
  {
   "cell_type": "code",
   "execution_count": 8,
   "id": "a4d03e3e",
   "metadata": {},
   "outputs": [
    {
     "data": {
      "text/plain": [
       "array([0.77367231, 0.76159416, 0.76159416, 0.7676485 , 0.76159416,\n",
       "       0.7629536 , 0.76307643, 0.76159416, 0.7655891 , 0.7691678 ,\n",
       "       0.76451442, 0.76214633, 0.76225849, 0.76800417, 0.7622486 ,\n",
       "       0.76159416, 0.76351536, 0.76159416, 0.76342149, 0.76159416,\n",
       "       0.76403048, 0.76223973])"
      ]
     },
     "execution_count": 8,
     "metadata": {},
     "output_type": "execute_result"
    }
   ],
   "source": [
    "sig = sigmoid_kernel(tfv_matrix, tfv_matrix)\n",
    "\n",
    "sig[0]"
   ]
  },
  {
   "cell_type": "code",
   "execution_count": 9,
   "id": "7bfb5920",
   "metadata": {},
   "outputs": [],
   "source": [
    "produtos = pd.Series(df_desc.index, index=df_desc['DescricaoProduto'])"
   ]
  },
  {
   "cell_type": "code",
   "execution_count": 10,
   "id": "35bf4458",
   "metadata": {},
   "outputs": [
    {
     "data": {
      "text/plain": [
       "[(0, 0.7736723113266252),\n",
       " (1, 0.7615941559557649),\n",
       " (2, 0.7615941559557649),\n",
       " (3, 0.7676484991953881),\n",
       " (4, 0.7615941559557649),\n",
       " (5, 0.7629535961823549),\n",
       " (6, 0.7630764307439657),\n",
       " (7, 0.7615941559557649),\n",
       " (8, 0.7655890965567376),\n",
       " (9, 0.7691677965881055),\n",
       " (10, 0.7645144180508388),\n",
       " (11, 0.7621463270460132),\n",
       " (12, 0.7622584910754807),\n",
       " (13, 0.7680041730718746),\n",
       " (14, 0.7622485969733842),\n",
       " (15, 0.7615941559557649),\n",
       " (16, 0.7635153590039832),\n",
       " (17, 0.7615941559557649),\n",
       " (18, 0.7634214884837746),\n",
       " (19, 0.7615941559557649),\n",
       " (20, 0.7640304833096829),\n",
       " (21, 0.7622397304591423)]"
      ]
     },
     "execution_count": 10,
     "metadata": {},
     "output_type": "execute_result"
    }
   ],
   "source": [
    "list(enumerate(sig[produtos['geladeira electrolux']]))"
   ]
  },
  {
   "cell_type": "code",
   "execution_count": 11,
   "id": "afb71c72",
   "metadata": {},
   "outputs": [],
   "source": [
    "filtered_products = df[df['DescricaoProduto'].str.contains('video game', case=False, regex=False, na=False)]"
   ]
  },
  {
   "cell_type": "code",
   "execution_count": 24,
   "id": "6efb7d72",
   "metadata": {},
   "outputs": [
    {
     "name": "stdout",
     "output_type": "stream",
     "text": [
      "O que você deseja? quero um playstation 4 slim\n",
      "Este produto tem a sua cara!\n",
      "playstation 5 pro o mais recente console de videogame da sony, o playstation 5 pro, oferece graficos avancados e desempenho aprimorado para jogos de ultima geracao CONFIRA AGORA\n",
      "playstation 4 pro limited edition a edicao limitada do playstation 4 pro oferece desempenho aprimorado e um design personalizado inspirado em jogos populares CONFIRA AGORA\n"
     ]
    }
   ],
   "source": [
    "max_similarity = -1\n",
    "top_match = None\n",
    "lista_v = []\n",
    "input_user = str(input(\"O que você deseja? \"))\n",
    "for produto_descricao in df['DescricaoProduto']:\n",
    "    query_doc = nlp(input_user)\n",
    "    product_doc = nlp(produto_descricao)\n",
    "    similarity = query_doc.similarity(product_doc) # calcula a similaridade entre a entrada e os dados existentes\n",
    "\n",
    "    if similarity > 0.51:\n",
    "        max_similarity = similarity\n",
    "        top_match = produto_descricao\n",
    "        lista_v.append(top_match)\n",
    "\n",
    "print(\"Este produto tem a sua cara!\")\n",
    "for item in lista_v:\n",
    "    print(f\"{item} CONFIRA AGORA\")"
   ]
  },
  {
   "cell_type": "code",
   "execution_count": null,
   "id": "90b79a06",
   "metadata": {},
   "outputs": [],
   "source": []
  },
  {
   "cell_type": "code",
   "execution_count": null,
   "id": "259bd2bd",
   "metadata": {},
   "outputs": [],
   "source": []
  },
  {
   "cell_type": "code",
   "execution_count": null,
   "id": "6081bbc9",
   "metadata": {},
   "outputs": [],
   "source": [
    "def give_rec0(desc, sig=sig):\n",
    "    prd = produtos[desc]\n",
    "    sig_scores = list(enumerate(sig[prd]))\n",
    "    sig_scores = sorted(sig_scores, key=lambda x: x[1], reverse=True)\n",
    "    sig_scores = sig_scores[1:3]\n",
    "    prods_index = [i[0] for i in sig_scores]\n",
    "    recommended_products = df['DescricaoProduto'].iloc[prods_index]\n",
    "    message = \"Essas são as melhores recomendações para você:\"\n",
    "    return print(f\"{message} \\n{recommended_products.to_string(index=False)}\")\n",
    "\n",
    "entrada = str(input(\"Olá! Qual produto você deseja comprar? \"))\n",
    "give_rec0(entrada)"
   ]
  },
  {
   "cell_type": "code",
   "execution_count": null,
   "id": "991e7ec0",
   "metadata": {},
   "outputs": [],
   "source": [
    "from fuzzywuzzy import fuzz\n",
    "\n",
    "def give_rec2(desc, sig=sig):\n",
    "    max_score = -1\n",
    "    top_match = None\n",
    "    \n",
    "    try:\n",
    "        for produto_descricao in df['DescricaoProduto']:\n",
    "            score = fuzz.ratio(desc, produto_descricao)\n",
    "            if score > max_score:\n",
    "                max_score = score\n",
    "                top_match = produto_descricao\n",
    "                return max_score, top_match\n",
    "        if max_score >= 45:\n",
    "            prd = produtos[top_match]\n",
    "            print(prd)\n",
    "            sig_scores = list(enumerate(sig[prd]))\n",
    "            sig_scores = sorted(sig_scores, key=lambda x: x[1], reverse=True)\n",
    "            sig_scores = sig_scores[1:4]\n",
    "            print(sig_scores)\n",
    "            prods_index = [i[0] for i in sig_scores]\n",
    "            return df['DescricaoProduto'].iloc[prods_index]\n",
    "        else:\n",
    "            return \"Nenhum produto correspondente encontrado.\"\n",
    "        \n",
    "    except KeyError:\n",
    "        return \"Nenhum produto correspondente encontrado.\"\n",
    "\n",
    "# Exemplo de uso\n",
    "user_query = \"sofa\"\n",
    "recomendacoes = give_rec2(user_query)\n",
    "print(recomendacoes)"
   ]
  },
  {
   "cell_type": "code",
   "execution_count": null,
   "id": "b1ca7efb",
   "metadata": {},
   "outputs": [],
   "source": [
    "score = fuzz.ratio('samsung em otimo estado', df['DescricaoProduto'][2])"
   ]
  }
 ],
 "metadata": {
  "kernelspec": {
   "display_name": "Python 3 (ipykernel)",
   "language": "python",
   "name": "python3"
  },
  "language_info": {
   "codemirror_mode": {
    "name": "ipython",
    "version": 3
   },
   "file_extension": ".py",
   "mimetype": "text/x-python",
   "name": "python",
   "nbconvert_exporter": "python",
   "pygments_lexer": "ipython3",
   "version": "3.10.9"
  }
 },
 "nbformat": 4,
 "nbformat_minor": 5
}
